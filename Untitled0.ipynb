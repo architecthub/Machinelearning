{
  "nbformat": 4,
  "nbformat_minor": 0,
  "metadata": {
    "colab": {
      "provenance": [],
      "authorship_tag": "ABX9TyMoP5Q8yH0W7Pn8WX/ZLAsF",
      "include_colab_link": true
    },
    "kernelspec": {
      "name": "python3",
      "display_name": "Python 3"
    },
    "language_info": {
      "name": "python"
    }
  },
  "cells": [
    {
      "cell_type": "markdown",
      "metadata": {
        "id": "view-in-github",
        "colab_type": "text"
      },
      "source": [
        "<a href=\"https://colab.research.google.com/github/architecthub/Machinelearning/blob/architecthub/Untitled0.ipynb\" target=\"_parent\"><img src=\"https://colab.research.google.com/assets/colab-badge.svg\" alt=\"Open In Colab\"/></a>"
      ]
    },
    {
      "cell_type": "code",
      "execution_count": 1,
      "metadata": {
        "colab": {
          "base_uri": "https://localhost:8080/"
        },
        "id": "T9d39JQfFW3d",
        "outputId": "7f7a9ad1-c7cc-4ee5-a922-8577277dc472"
      },
      "outputs": [
        {
          "output_type": "execute_result",
          "data": {
            "text/plain": [
              "13"
            ]
          },
          "metadata": {},
          "execution_count": 1
        }
      ],
      "source": [
        "7+6"
      ]
    },
    {
      "cell_type": "code",
      "source": [],
      "metadata": {
        "id": "_rt57OvHF6bP"
      },
      "execution_count": null,
      "outputs": []
    }
  ]
}